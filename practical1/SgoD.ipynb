{
 "cells": [
  {
   "cell_type": "code",
   "execution_count": 6,
   "id": "50125b88-3ae8-41a9-a3d6-3f516d7413b7",
   "metadata": {},
   "outputs": [],
   "source": [
    "import numpy as np\n",
    "import pandas as pd\n",
    "\n",
    "# Keep seed fixed for reproducibility\n",
    "np.random.seed(42)\n",
    "\n"
   ]
  },
  {
   "cell_type": "code",
   "execution_count": 7,
   "id": "b5c74426-338f-409d-bdf1-4968293e1584",
   "metadata": {},
   "outputs": [
    {
     "name": "stdout",
     "output_type": "stream",
     "text": [
      "   age        income\n",
      "0   56  77395.206461\n",
      "1   46  71052.576424\n",
      "2   32           NaN\n",
      "3   25  42374.150964\n",
      "4   38  55143.099171\n",
      "5   56  71379.585811\n",
      "6   36  42937.254937\n",
      "7   40           NaN\n",
      "8   28  52082.225405\n",
      "9   28  40380.620012\n"
     ]
    }
   ],
   "source": [
    "# Create ages between 18 and 59 for 10 people\n",
    "ages = np.random.randint(18, 60, size=10)\n",
    "\n",
    "# Income grows with age, but add some noise\n",
    "base_income = 20000 + ages * 1000\n",
    "noise = np.random.normal(0, 5000, size=10)  # random noise\n",
    "income = base_income + noise\n",
    "\n",
    "# Introduce some NaNs into income (simulate missing data)\n",
    "income[2] = np.nan\n",
    "income[7] = np.nan\n",
    "\n",
    "# Build DataFrame\n",
    "df = pd.DataFrame({\n",
    "    'age': ages,\n",
    "    'income': income\n",
    "})\n",
    "\n",
    "print(df)\n"
   ]
  },
  {
   "cell_type": "code",
   "execution_count": 8,
   "id": "6248a8cb-bd77-488f-b5ef-dc3bae4dfff1",
   "metadata": {},
   "outputs": [
    {
     "name": "stdout",
     "output_type": "stream",
     "text": [
      "Mean income: 56593.09\n",
      "Median income: 53612.66\n",
      "Age-weighted mean income: 60349.2\n"
     ]
    }
   ],
   "source": [
    "# (a) Mean income (ignores NaNs automatically)\n",
    "mean_income = df['income'].mean()\n",
    "\n",
    "# (b) Median income\n",
    "median_income = df['income'].median()\n",
    "\n",
    "# (c) Age-weighted mean income (only where income is not NaN)\n",
    "valid = df['income'].notna()\n",
    "weighted_mean_income = (df.loc[valid, 'income'] * df.loc[valid, 'age']).sum() / df.loc[valid, 'age'].sum()\n",
    "\n",
    "print(\"Mean income:\", round(mean_income, 2))\n",
    "print(\"Median income:\", round(median_income, 2))\n",
    "print(\"Age-weighted mean income:\", round(weighted_mean_income, 2))\n"
   ]
  },
  {
   "cell_type": "markdown",
   "id": "96bf7f7f-2d2f-4aed-9a2a-6a0e77b8017c",
   "metadata": {},
   "source": [
    "**Problem 2:** Standardize income (z-score). Report how many incomes are outliers using rule |z| \n",
    "> 3. Handle NaNs correctly (do not drop entire rows unnecessarily)."
   ]
  },
  {
   "cell_type": "code",
   "execution_count": 9,
   "id": "d784111c-8c4d-46e7-ab23-5b0cb11a3436",
   "metadata": {},
   "outputs": [
    {
     "name": "stdout",
     "output_type": "stream",
     "text": [
      "Mean income: 56593.09\n",
      "Std income: 14805.4\n",
      "Number of outliers (|z| > 3): 0\n",
      "\n",
      "Outlier rows:\n",
      " Empty DataFrame\n",
      "Columns: [age, income, income_z]\n",
      "Index: []\n"
     ]
    }
   ],
   "source": [
    "import numpy as np\n",
    "import pandas as pd\n",
    "\n",
    "# Recreate dataset (same as before, seed ensures consistency)\n",
    "np.random.seed(42)\n",
    "ages = np.random.randint(18, 60, size=10)\n",
    "base_income = 20000 + ages * 1000\n",
    "noise = np.random.normal(0, 5000, size=10)\n",
    "income = base_income + noise\n",
    "income[2] = np.nan\n",
    "income[7] = np.nan\n",
    "\n",
    "df = pd.DataFrame({\n",
    "    'age': ages,\n",
    "    'income': income\n",
    "})\n",
    "\n",
    "# --- Problem 2: Standardization (z-score) ---\n",
    "mean_income = df['income'].mean(skipna=True)   # ignore NaN\n",
    "std_income = df['income'].std(skipna=True)     # ignore NaN\n",
    "\n",
    "# Compute z-score for income (will be NaN where income is NaN)\n",
    "df['income_z'] = (df['income'] - mean_income) / std_income\n",
    "\n",
    "# Identify outliers where |z| > 3\n",
    "outliers = df['income_z'].abs() > 3\n",
    "n_outliers = outliers.sum()\n",
    "\n",
    "print(\"Mean income:\", round(mean_income, 2))\n",
    "print(\"Std income:\", round(std_income, 2))\n",
    "print(\"Number of outliers (|z| > 3):\", n_outliers)\n",
    "print(\"\\nOutlier rows:\\n\", df[outliers])\n"
   ]
  },
  {
   "cell_type": "markdown",
   "id": "a44017f4-47d9-428d-82c2-78a6da186f37",
   "metadata": {},
   "source": [
    "**Problem 3:**\n",
    "Create age bins: [18-25), [25-35), [35-45), [45-60) and compute for each bin: \n",
    "● count of observations, \n",
    "● mean income, \n",
    "● median score. \n",
    "Show result as a tidy DataFrame sorted by age bin. "
   ]
  },
  {
   "cell_type": "code",
   "execution_count": 11,
   "id": "165d9ca9-3433-46e9-abd0-39cbb58ac2ea",
   "metadata": {},
   "outputs": [
    {
     "name": "stdout",
     "output_type": "stream",
     "text": [
      "   age        income      score\n",
      "0   56  73652.628070  48.628777\n",
      "1   46  68712.800218  61.834259\n",
      "2   32           NaN  71.663839\n",
      "3   25  42671.351232  52.735096\n",
      "4   38  59209.811358        NaN\n",
      "5   56  66433.598777  60.990420\n",
      "6   36  47375.410837  65.624594\n",
      "7   40           NaN  60.974401\n",
      "8   28  42935.844398  97.784173\n",
      "9   28  49571.236663  69.797542\n"
     ]
    }
   ],
   "source": [
    "import numpy as np\n",
    "import pandas as pd\n",
    "\n",
    "# Recreate dataset with score\n",
    "np.random.seed(42)\n",
    "ages = np.random.randint(18, 60, size=15)\n",
    "base_income = 20000 + ages * 1000\n",
    "noise = np.random.normal(0, 5000, size=15)\n",
    "income = base_income + noise\n",
    "income[2] = np.nan\n",
    "income[7] = np.nan\n",
    "\n",
    "# Generate scores (0–100) with some randomness\n",
    "scores = np.clip(np.random.normal(70, 15, size=15), 0, 100)\n",
    "scores[4] = np.nan   # insert one NaN for realism\n",
    "\n",
    "df = pd.DataFrame({\n",
    "    'age': ages,\n",
    "    'income': income,\n",
    "    'score': scores\n",
    "})\n",
    "\n",
    "print(df.head(10))\n"
   ]
  },
  {
   "cell_type": "code",
   "execution_count": 12,
   "id": "2432cbb4-3c25-4a05-9c56-0ee01dffd2bd",
   "metadata": {},
   "outputs": [
    {
     "name": "stdout",
     "output_type": "stream",
     "text": [
      "  age_bin  count_obs  mean_income  median_score\n",
      "0   18-25          1     40337.64         40.60\n",
      "1   25-35          4     45059.48         70.73\n",
      "2   35-45          5     55729.06         63.30\n",
      "3   45-60          5     71813.15         60.99\n"
     ]
    },
    {
     "name": "stderr",
     "output_type": "stream",
     "text": [
      "C:\\Users\\goura\\AppData\\Local\\Temp\\ipykernel_2456\\4260679482.py:12: FutureWarning: The default of observed=False is deprecated and will be changed to True in a future version of pandas. Pass observed=False to retain current behavior or observed=True to adopt the future default and silence this warning.\n",
      "  summary = df.groupby('age_bin').agg(\n"
     ]
    }
   ],
   "source": [
    "# Define bins and labels\n",
    "bins = [18, 25, 35, 45, 60]\n",
    "labels = ['18-25', '25-35', '35-45', '45-60']\n",
    "\n",
    "# Assign each person to an age bin\n",
    "df['age_bin'] = pd.cut(df['age'], bins=bins, right=False, labels=labels)\n",
    "\n",
    "# Group by age_bin and calculate:\n",
    "# - count of observations\n",
    "# - mean income (ignoring NaNs)\n",
    "# - median score (ignoring NaNs)\n",
    "summary = df.groupby('age_bin').agg(\n",
    "    count_obs = ('age', 'count'),\n",
    "    mean_income = ('income', 'mean'),\n",
    "    median_score = ('score', 'median')\n",
    ").reset_index()\n",
    "\n",
    "# Round values for readability\n",
    "summary['mean_income'] = summary['mean_income'].round(2)\n",
    "summary['median_score'] = summary['median_score'].round(2)\n",
    "\n",
    "print(summary)\n"
   ]
  },
  {
   "cell_type": "markdown",
   "id": "99a53c1d-e290-4bb5-bf13-730f99abacb7",
   "metadata": {},
   "source": []
  },
  {
   "cell_type": "code",
   "execution_count": 13,
   "id": "dd96feb2-c756-43fa-96a1-23f7f8578ba3",
   "metadata": {},
   "outputs": [
    {
     "name": "stdout",
     "output_type": "stream",
     "text": [
      "Matrix A:\n",
      " [[4 7 2]\n",
      " [3 5 6]\n",
      " [1 0 8]]\n"
     ]
    }
   ],
   "source": [
    "import numpy as np\n",
    "\n",
    "# Create a 3x3 matrix (not 1D!)\n",
    "A = np.array([[4, 7, 2],\n",
    "              [3, 5, 6],\n",
    "              [1, 0, 8]])\n",
    "\n",
    "print(\"Matrix A:\\n\", A)\n"
   ]
  },
  {
   "cell_type": "code",
   "execution_count": 14,
   "id": "aedd17c5-82e4-497d-908e-b5dda58a75d0",
   "metadata": {},
   "outputs": [
    {
     "name": "stdout",
     "output_type": "stream",
     "text": [
      "Shape of A: (3, 3)\n",
      "Size of A: 9\n",
      "Transpose of A:\n",
      " [[4 3 1]\n",
      " [7 5 0]\n",
      " [2 6 8]]\n",
      "Flattened A: [4 7 2 3 5 6 1 0 8]\n"
     ]
    }
   ],
   "source": [
    "# Shape and size\n",
    "print(\"Shape of A:\", A.shape)   # (rows, cols)\n",
    "print(\"Size of A:\", A.size)     # total elements\n",
    "\n",
    "# Transpose (swap rows & columns)\n",
    "print(\"Transpose of A:\\n\", A.T)\n",
    "\n",
    "# Flatten (convert 2D to 1D array)\n",
    "print(\"Flattened A:\", A.flatten())\n"
   ]
  },
  {
   "cell_type": "code",
   "execution_count": 15,
   "id": "dc81b381-d5e1-4e82-be8f-179d20b7ef1d",
   "metadata": {},
   "outputs": [
    {
     "name": "stdout",
     "output_type": "stream",
     "text": [
      "Last element A[-1, -1]: 8\n",
      "Error caught: IndexError - index 5 is out of bounds for axis 0 with size 3\n"
     ]
    }
   ],
   "source": [
    "# Negative indexing (valid)\n",
    "print(\"Last element A[-1, -1]:\", A[-1, -1])  # last row, last column\n",
    "\n",
    "# Invalid slicing (will throw error)\n",
    "try:\n",
    "    print(\"Trying to access A[5]:\", A[5])  # row index 5 doesn't exist\n",
    "except Exception as e:\n",
    "    print(\"Error caught:\", type(e).__name__, \"-\", e)\n"
   ]
  },
  {
   "cell_type": "code",
   "execution_count": 16,
   "id": "705938e1-193a-4e7a-8451-5ef32cc41a89",
   "metadata": {},
   "outputs": [
    {
     "name": "stdout",
     "output_type": "stream",
     "text": [
      "Broadcasting A + vec:\n",
      " [[14 27 32]\n",
      " [13 25 36]\n",
      " [11 20 38]]\n",
      "Dot Product A·B:\n",
      " [[16 35]\n",
      " [30 48]\n",
      " [34 41]]\n"
     ]
    }
   ],
   "source": [
    "# Broadcasting (adding a vector to each row)\n",
    "vec = np.array([10, 20, 30])\n",
    "print(\"Broadcasting A + vec:\\n\", A + vec)\n",
    "\n",
    "# Dot product (Matrix multiplication)\n",
    "B = np.array([[2, 1],\n",
    "              [0, 3],\n",
    "              [4, 5]])  # 3x2 matrix\n",
    "dot_result = A.dot(B)\n",
    "print(\"Dot Product A·B:\\n\", dot_result)\n"
   ]
  },
  {
   "cell_type": "code",
   "execution_count": 17,
   "id": "af07e1aa-aea3-4f6f-bc4e-9141dc3e6d5c",
   "metadata": {},
   "outputs": [
    {
     "name": "stdout",
     "output_type": "stream",
     "text": [
      "Determinant of A: 24.0\n",
      "Inverse of A:\n",
      " [[ 1.66666667 -2.33333333  1.33333333]\n",
      " [-0.75        1.25       -0.75      ]\n",
      " [-0.20833333  0.29166667 -0.04166667]]\n",
      "A * A⁻¹ (should be Identity):\n",
      " [[ 1. -0. -0.]\n",
      " [ 0.  1.  0.]\n",
      " [ 0.  0.  1.]]\n"
     ]
    }
   ],
   "source": [
    "import numpy.linalg as la\n",
    "\n",
    "# Determinant\n",
    "det_A = la.det(A)\n",
    "print(\"Determinant of A:\", round(det_A, 2))\n",
    "\n",
    "# Inverse (only if determinant ≠ 0)\n",
    "if abs(det_A) < 1e-12:\n",
    "    print(\"Matrix A is singular (no inverse).\")\n",
    "else:\n",
    "    inv_A = la.inv(A)\n",
    "    print(\"Inverse of A:\\n\", inv_A)\n",
    "\n",
    "    # Check: A · A⁻¹ ≈ Identity matrix\n",
    "    print(\"A * A⁻¹ (should be Identity):\\n\", np.round(A.dot(inv_A), 2))\n"
   ]
  },
  {
   "cell_type": "code",
   "execution_count": null,
   "id": "9af350f0-0acd-411e-93fa-9bf49773b52b",
   "metadata": {},
   "outputs": [],
   "source": []
  }
 ],
 "metadata": {
  "kernelspec": {
   "display_name": "Python [conda env:base] *",
   "language": "python",
   "name": "conda-base-py"
  },
  "language_info": {
   "codemirror_mode": {
    "name": "ipython",
    "version": 3
   },
   "file_extension": ".py",
   "mimetype": "text/x-python",
   "name": "python",
   "nbconvert_exporter": "python",
   "pygments_lexer": "ipython3",
   "version": "3.13.5"
  }
 },
 "nbformat": 4,
 "nbformat_minor": 5
}
